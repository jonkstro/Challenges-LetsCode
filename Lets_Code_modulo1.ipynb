{
  "nbformat": 4,
  "nbformat_minor": 0,
  "metadata": {
    "colab": {
      "provenance": [],
      "collapsed_sections": [],
      "authorship_tag": "ABX9TyPTYSRCmF4JsqoNnJrDH2wR",
      "include_colab_link": true
    },
    "kernelspec": {
      "name": "python3",
      "display_name": "Python 3"
    },
    "language_info": {
      "name": "python"
    }
  },
  "cells": [
    {
      "cell_type": "markdown",
      "metadata": {
        "id": "view-in-github",
        "colab_type": "text"
      },
      "source": [
        "<a href=\"https://colab.research.google.com/github/jonkstro/Challenges-LetsCode/blob/main/Lets_Code_modulo1.ipynb\" target=\"_parent\"><img src=\"https://colab.research.google.com/assets/colab-badge.svg\" alt=\"Open In Colab\"/></a>"
      ]
    },
    {
      "cell_type": "markdown",
      "source": [
        "#Exercícios Módulo 1 - Python\n",
        "\n",
        "1. Faça um programa que peça um valor monetário e diminua-o em 15%. Seu\n",
        "programa deve imprimir a mensagem “O novo valor é [valor]”.\n",
        "2. Faça um programa que leia a validade das informações:\n",
        "  \n",
        "   a. Idade: entre 0 e 150;\n",
        "  \n",
        "   b. Salário: maior que 0;\n",
        "  \n",
        "   c. Sexo: M, F ou Outro;\n",
        "   \n",
        "O programa deve imprimir uma mensagem de erro para cada informação\n",
        "inválida.\n",
        "3. Vamos fazer um programa para verificar quem é o assassino de um crime.\n",
        "Para descobrir o assassino, a polícia faz um pequeno questionário com 5\n",
        "perguntas onde a resposta só pode ser sim ou não:\n",
        "  \n",
        "   a. Mora perto da vítima?\n",
        "  \n",
        "   b. Já trabalhou com a vítima?\n",
        "  \n",
        "   c. Telefonou para a vítima?\n",
        "  \n",
        "   d. Esteve no local do crime?\n",
        "  \n",
        "   e. Devia para a vítima?\n",
        "\n",
        "Cada resposta sim dá um ponto para o suspeito. A polícia considera que os\n",
        "suspeitos com 5 pontos são os assassinos, com 4 a 3 pontos são cúmplices e\n",
        "2 pontos são apenas suspeitos, necessitando outras investigações. Valores\n",
        "iguais ou abaixo de 1 são liberados.\n",
        "4. Faça um programa que imprima a tabuada do 9 (de 9 * 1 a 9 * 10) usando loops."
      ],
      "metadata": {
        "id": "Rx9Pi4-44NY9"
      }
    },
    {
      "cell_type": "markdown",
      "source": [
        "### 1. Faça um programa que peça um valor monetário e diminua-o em 15%. Seu programa deve imprimir a mensagem “O novo valor é [valor]”.\n"
      ],
      "metadata": {
        "id": "tQ5QpqFfMPJy"
      }
    },
    {
      "cell_type": "code",
      "source": [
        "valor_monetario = input(\"Digite um valor monetário: \")\n",
        "valor_monetario = float(valor_monetario)\n",
        "valor_reduzido = valor_monetario * 0.85\n",
        "print(f\"O novo valor é [{valor_reduzido}]\") "
      ],
      "metadata": {
        "colab": {
          "base_uri": "https://localhost:8080/"
        },
        "id": "Lky_MRexMWzg",
        "outputId": "000e647a-f40d-4144-e578-4e1c67b0b08a"
      },
      "execution_count": 3,
      "outputs": [
        {
          "output_type": "stream",
          "name": "stdout",
          "text": [
            "Digite um valor monetário: 1000\n",
            "O novo valor é [850.0]\n"
          ]
        }
      ]
    },
    {
      "cell_type": "markdown",
      "source": [
        "### 2. Faça um programa que leia a validade das informações:\n",
        "\n",
        "a. Idade: entre 0 e 150;\n",
        "\n",
        "b. Salário: maior que 0;\n",
        "\n",
        "c. Sexo: M, F ou Outro; \n",
        "\n",
        "O programa deve imprimir uma mensagem de erro para cada informação inválida."
      ],
      "metadata": {
        "id": "9VeMRXeoNKrV"
      }
    },
    {
      "cell_type": "code",
      "source": [
        "idade = input('Digite um valor de idade: ')\n",
        "while int(idade) < 0 or int(idade) > 150:\n",
        "  idade = input('Insira uma idade válida!!!')\n",
        "\n",
        "salario = input('Digite um valor de salário: ')\n",
        "while float(salario) < 0:\n",
        "  salario = input('Insira um salario válido!!!')\n",
        "sexo = input('Digite o sexo (M, F ou Outro): ')\n",
        "while sexo != 'M' and sexo != 'F' and sexo !='Outro':\n",
        "  sexo = input('Digite \"M\", \"F\" ou \"Outro\"')\n",
        "  \n",
        "\n",
        "print(f\"Sua idade é: {idade}\\nSeu salário é: {salario}\\nSeu sexo é: {sexo}\")\n"
      ],
      "metadata": {
        "colab": {
          "base_uri": "https://localhost:8080/"
        },
        "id": "RPjdeLUeNT1L",
        "outputId": "11e29a33-8165-442e-ac33-0b6465eeb32c"
      },
      "execution_count": 19,
      "outputs": [
        {
          "output_type": "stream",
          "name": "stdout",
          "text": [
            "Digite um valor de idade: 180\n",
            "Insira uma idade válida!!!150\n",
            "Digite um valor de salário: 100\n",
            "Digite o sexo (M, F ou Outro): F\n",
            "Sua idade é: 150\n",
            "Seu salário é: 100\n",
            "Seu sexo é: F\n"
          ]
        }
      ]
    },
    {
      "cell_type": "markdown",
      "source": [
        "###3. Vamos fazer um programa para verificar quem é o assassino de um crime. Para descobrir o assassino, a polícia faz um pequeno questionário com 5 perguntas onde a resposta só pode ser sim ou não:\n",
        "\n",
        "a. Mora perto da vítima?\n",
        "\n",
        "b. Já trabalhou com a vítima?\n",
        "\n",
        "c. Telefonou para a vítima?\n",
        "\n",
        "d. Esteve no local do crime?\n",
        "\n",
        "e. Devia para a vítima?\n",
        "\n",
        "Cada resposta sim dá um ponto para o suspeito. A polícia considera que os suspeitos com 5 pontos são os assassinos, com 4 a 3 pontos são cúmplices e 2 pontos são apenas suspeitos, necessitando outras investigações. Valores iguais ou abaixo de 1 são liberados."
      ],
      "metadata": {
        "id": "zGuRRVnTSQyJ"
      }
    },
    {
      "cell_type": "code",
      "source": [
        "q1 = input('Mora perto da vitima? S/N ')\n",
        "while q1 != 'S' and q1 != 'N':\n",
        "  q1 = input('Digite \"S\" ou \"N\", seu meliante: ')\n",
        "q2 = input('Já trabalhou com a vítima? S/N ')\n",
        "while q2 != 'S' and q2 != 'N':\n",
        "  q2 = input('Digite \"S\" ou \"N\", seu meliante: ')\n",
        "q3 = input('Telefonou pra vítima? S/N ')\n",
        "while q3 != 'S' and q3 != 'N':\n",
        "  q4 = input('Digite \"S\" ou \"N\", seu meliante: ')\n",
        "q4 = input('Esteve no local do crime? S/N ')\n",
        "while q4 != 'S' and q4 != 'N':\n",
        "  q4 = input('Digite \"S\" ou \"N\", seu meliante: ')\n",
        "q5 = input('Devia para a vítima? S/N ')\n",
        "while q5 != 'S' and q5 != 'N':\n",
        "  q5 = input('Digite \"S\" ou \"N\", seu meliante: ')\n",
        "\n",
        "pontos = 0\n",
        "if q1 == 'S':\n",
        "  pontos += 1\n",
        "if q2 == 'S':\n",
        "  pontos += 1\n",
        "if q3 == 'S':\n",
        "  pontos += 1\n",
        "if q4 == 'S':\n",
        "  pontos += 1\n",
        "if q5 == 'S':\n",
        "  pontos += 1  \n",
        "\n",
        "print('\\n')\n",
        "if pontos == 5:\n",
        "  print('Achamos o assassino! Prendam-o!!!')\n",
        "elif pontos == 4 or pontos == 3:\n",
        "  print('Você foi cúmplice, logo, será preso!!!')\n",
        "elif pontos == 2:\n",
        "  print('Você é suspeito, iremos realizar novas investigações...')\n",
        "else: \n",
        "  print('Vocês está liberado, dessa vez escapou!')"
      ],
      "metadata": {
        "colab": {
          "base_uri": "https://localhost:8080/"
        },
        "id": "VB27t5NGSYkD",
        "outputId": "6690cee7-a411-4d0a-860a-9c54db7ee5d5"
      },
      "execution_count": 24,
      "outputs": [
        {
          "output_type": "stream",
          "name": "stdout",
          "text": [
            "Mora perto da vitima? S/N s\n",
            "Digite \"S\" ou \"N\", seu meliante: S\n",
            "Já trabalhou com a vítima? S/N n\n",
            "Digite \"S\" ou \"N\", seu meliante: N\n",
            "Telefonou pra vítima? S/N S\n",
            "Esteve no local do crime? S/N S\n",
            "Devia para a vítima? S/N S\n",
            "\n",
            "\n",
            "Você foi cúmplice, logo, será preso\n"
          ]
        }
      ]
    },
    {
      "cell_type": "markdown",
      "source": [
        "### 4. Faça um programa que imprima a tabuada do 9 (de 9 * 1 a 9 * 10) usando loops."
      ],
      "metadata": {
        "id": "_q84PExVVcG2"
      }
    },
    {
      "cell_type": "code",
      "source": [
        "print('+'*5 +' TABUADA DOS 9 '+'+'*5+'\\n')\n",
        "for i in range(11):\n",
        "  print(f'9 X {i} = {9*i}')"
      ],
      "metadata": {
        "colab": {
          "base_uri": "https://localhost:8080/"
        },
        "id": "MFOC7A6oVd2X",
        "outputId": "9c36df5c-db3b-425e-a68f-55575941ba42"
      },
      "execution_count": 33,
      "outputs": [
        {
          "output_type": "stream",
          "name": "stdout",
          "text": [
            "+++++ TABUADA DOS 9 +++++\n",
            "\n",
            "9 X 0 = 0\n",
            "9 X 1 = 9\n",
            "9 X 2 = 18\n",
            "9 X 3 = 27\n",
            "9 X 4 = 36\n",
            "9 X 5 = 45\n",
            "9 X 6 = 54\n",
            "9 X 7 = 63\n",
            "9 X 8 = 72\n",
            "9 X 9 = 81\n",
            "9 X 10 = 90\n"
          ]
        }
      ]
    }
  ]
}