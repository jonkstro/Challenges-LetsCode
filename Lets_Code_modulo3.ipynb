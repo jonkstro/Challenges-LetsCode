{
  "nbformat": 4,
  "nbformat_minor": 0,
  "metadata": {
    "colab": {
      "provenance": [],
      "collapsed_sections": [],
      "authorship_tag": "ABX9TyN4ekPEZFDXVSxCwLZvYeWv",
      "include_colab_link": true
    },
    "kernelspec": {
      "name": "python3",
      "display_name": "Python 3"
    },
    "language_info": {
      "name": "python"
    }
  },
  "cells": [
    {
      "cell_type": "markdown",
      "metadata": {
        "id": "view-in-github",
        "colab_type": "text"
      },
      "source": [
        "<a href=\"https://colab.research.google.com/github/jonkstro/Challenges-LetsCode/blob/main/Lets_Code_modulo3.ipynb\" target=\"_parent\"><img src=\"https://colab.research.google.com/assets/colab-badge.svg\" alt=\"Open In Colab\"/></a>"
      ]
    },
    {
      "cell_type": "markdown",
      "source": [
        "#Exercícios Módulo 3 - Python\n",
        "\n",
        "1. Neste exercício você deve criar um programa que abra o arquivo\n",
        "\"alunos.csv\" e imprima o conteúdo do arquivo linha a linha.\n",
        "Note que esse é o primeiro exercício de uma sequência, então o seu código\n",
        "pode ser reaproveitado nos exercícios seguintes.\n",
        "\n",
        "  Dito isso, a recomendação é usar a biblioteca CSV para ler o arquivo mesmo que não seja realmente necessário para esse primeiro item.\n",
        "2. Para o segundo exercício, você deve criar um programa que realize uma\n",
        "cópia do arquivo \"alunos.csv\". Essa cópia deve ser um arquivo chamado\n",
        "\"alunos_copia.csv\".\n",
        "\n",
        "  Novamente, aqui você também não precisa utilizar a biblioteca CSV mas se\n",
        "  usar, seu código pode ser reutilizado na próxima questão sem muitas\n",
        "  modificações.\n",
        "3. Finalmente chegamos ao último exercício dessa sequência relacionada à\n",
        "manipulação de arquivos.\n",
        "\n",
        "  Neste exercício você deve criar um novo arquivo chamado\n",
        "  \"alunos_media.csv\". Esse novo arquivo é uma cópia de \"alunos.csv\" porém\n",
        "  com uma coluna a mais chamada \"Média\" que vai abrigar os valores das\n",
        "  médias das provas de cada aluno da lista.\n",
        "\n",
        "  Se você utilizou a biblioteca CSV para realizar os dois primeiros exercícios, muito será reaproveitado aqui. A biblioteca CSV permite a interpretação de cada linha como listas, que são fáceis de manipular.\n",
        "\n",
        "4. Você conhece Star Wars? Se trata, obviamente, da famosa saga espacial\n",
        "criada por George Lucas em 1977 e que deu origem a símbolos do cinema e\n",
        "da cultura pop com o imponente vilão Darth Vader ou o simpático robô\n",
        "R2-D2. \n",
        "\n",
        "  A ideia desse exercício é justamente extrair informações do\n",
        "personagem Darth Vader através de uma API de Star Wars chamada SWAPI.\n",
        "Utilize a URL \"https://swapi.dev/api/people/4/\" para fazer a requisição dos\n",
        "dados de Darth Vader e extraia as informações \"name\" (nome), \"height\"\n",
        "(altura), \"mass\" (massa) e \"birth_year\" (ano de nascimento) e imprima cada\n",
        "dado em uma linha.\n",
        "\n",
        "  Dica: caso não se lembre de como fazer isso, assista novamente a aula sobre\n",
        "API porque o exemplo da aula pode te ajudar.\n",
        "5. Em 2019 surgiram os primeiros casos de COVID-19 que se alastrou pelo\n",
        "mundo resultando numa pandemia. \n",
        "\n",
        "  A proposta deste exercício é utilizar\n",
        "uma API com informações de COVID-19 do mundo todo desde o início da\n",
        "proliferação e descobrir que dia o Brasil confirmou o primeiro caso de\n",
        "Coronavírus.\n",
        "\n",
        "  Para fazer isso, utilize a URL \"https://api.covid19api.com/country/brazil\" em seu\n",
        "código. Ela retorna uma lista de dicionários, onde cada dicionário traz\n",
        "informações através das chaves:\n",
        "\"ID\", \"Country\", \"CountryCode\", \"Province\", \"City\",\n",
        "\"CityCode\",\"Lat\",\"Lon\",\"Confirmed\",\"Deaths\", \"Recovered\", \"Active\" e \"Date\".\n",
        "\n",
        "  Utilize essas informações e retorne a data em que o Brasil confirmou o\n",
        "primeiro caso de COVID."
      ],
      "metadata": {
        "id": "-nc2FwLuYnd-"
      }
    },
    {
      "cell_type": "markdown",
      "source": [
        "### 1. Neste exercício você deve criar um programa que abra o arquivo \"alunos.csv\" e imprima o conteúdo do arquivo linha a linha.\n",
        "Note que esse é o primeiro exercício de uma sequência, então o seu código\n",
        "pode ser reaproveitado nos exercícios seguintes.\n",
        "\n",
        "  Dito isso, a recomendação é usar a biblioteca CSV para ler o arquivo mesmo que não seja realmente necessário para esse primeiro item."
      ],
      "metadata": {
        "id": "tT8dog2LjYNO"
      }
    },
    {
      "cell_type": "code",
      "execution_count": null,
      "metadata": {
        "id": "kDydRDmqYmah",
        "colab": {
          "base_uri": "https://localhost:8080/"
        },
        "outputId": "17ea2600-e064-4dd8-b836-3e89469492f4"
      },
      "outputs": [
        {
          "output_type": "stream",
          "name": "stdout",
          "text": [
            "['RA', 'Nome', 'Frequencia', 'Prova_1', 'Prova_2', 'Prova_3', 'Prova_4']\n",
            "['110201', 'Antonio Carlos', '20', '6.5', '8.5', '7', '6']\n",
            "['110212', 'Ana Beatriz', '20', '7', '7', '7', '8']\n",
            "['110218', 'Carlos Vernes', '17', '7', '7', '7', '7']\n",
            "['110307', 'Francisco Cunha', '20', '9', '8.5', '8.5', '10']\n",
            "['110275', 'Sandra Rosa', '15', '6.5', '7.5', '7', '7']\n",
            "['110281', 'Juliana Arruda', '18', '7.5', '7', '7.5', '8']\n",
            "['110301', 'Joao Galo', '20', '5', '6.5', '7', '5']\n",
            "['110263', 'José Valente', '20', '10', '10', '10', '10']\n",
            "['110271', 'Maria Ferreira', '19', '9.5', '8', '7', '10']\n",
            "['110236', 'Adriana Tavares', '20', '8', '8', '8', '8']\n"
          ]
        }
      ],
      "source": [
        "import csv\n",
        "with open('alunos.csv', 'r', encoding='utf-8') as arquivo_csv:\n",
        "  leitor = csv.reader(arquivo_csv)\n",
        "  for linha in leitor:\n",
        "    print(linha)"
      ]
    },
    {
      "cell_type": "markdown",
      "source": [
        "### 2.Para o segundo exercício, você deve criar um programa que realize uma cópia do arquivo \"alunos.csv\". Essa cópia deve ser um arquivo chamado \"alunos_copia.csv\".\n",
        "\n",
        "Novamente, aqui você também não precisa utilizar a biblioteca CSV mas se usar, seu código pode ser reutilizado na próxima questão sem muitas modificações."
      ],
      "metadata": {
        "id": "I7kJ65Sekn2k"
      }
    },
    {
      "cell_type": "code",
      "source": [
        "alunos = open('alunos.csv', 'r', encoding='utf-8')\n",
        "leitor = csv.reader(alunos)\n",
        "with open('alunos_copia.csv', 'w', encoding='utf-8') as arquivo:\n",
        "  escritor = csv.writer(arquivo)\n",
        "  for i in leitor:\n",
        "    # print(i)\n",
        "    escritor.writerow(i)\n",
        "    print(i)\n",
        "arquivo.close()"
      ],
      "metadata": {
        "id": "2BkuZ2WYkqcT",
        "colab": {
          "base_uri": "https://localhost:8080/"
        },
        "outputId": "305577bf-e7ea-48a5-dbe2-d051543023f3"
      },
      "execution_count": null,
      "outputs": [
        {
          "output_type": "stream",
          "name": "stdout",
          "text": [
            "['RA', 'Nome', 'Frequencia', 'Prova_1', 'Prova_2', 'Prova_3', 'Prova_4']\n",
            "['110201', 'Antonio Carlos', '20', '6.5', '8.5', '7', '6']\n",
            "['110212', 'Ana Beatriz', '20', '7', '7', '7', '8']\n",
            "['110218', 'Carlos Vernes', '17', '7', '7', '7', '7']\n",
            "['110307', 'Francisco Cunha', '20', '9', '8.5', '8.5', '10']\n",
            "['110275', 'Sandra Rosa', '15', '6.5', '7.5', '7', '7']\n",
            "['110281', 'Juliana Arruda', '18', '7.5', '7', '7.5', '8']\n",
            "['110301', 'Joao Galo', '20', '5', '6.5', '7', '5']\n",
            "['110263', 'José Valente', '20', '10', '10', '10', '10']\n",
            "['110271', 'Maria Ferreira', '19', '9.5', '8', '7', '10']\n",
            "['110236', 'Adriana Tavares', '20', '8', '8', '8', '8']\n"
          ]
        }
      ]
    },
    {
      "cell_type": "markdown",
      "source": [
        "### 3. Finalmente chegamos ao último exercício dessa sequência relacionada à\n",
        "manipulação de arquivos.\n",
        "\n",
        "  Neste exercício você deve criar um novo arquivo chamado\n",
        "  \"alunos_media.csv\". Esse novo arquivo é uma cópia de \"alunos.csv\" porém\n",
        "  com uma coluna a mais chamada \"Média\" que vai abrigar os valores das\n",
        "  médias das provas de cada aluno da lista.\n",
        "\n",
        "  Se você utilizou a biblioteca CSV para realizar os dois primeiros exercícios, muito será reaproveitado aqui. A biblioteca CSV permite a interpretação de cada linha como listas, que são fáceis de manipular.\n"
      ],
      "metadata": {
        "id": "3Le_HIAKgtK0"
      }
    },
    {
      "cell_type": "code",
      "source": [
        "with open('alunos.csv', newline='') as csvfile:\n",
        "  reader = csv.DictReader(csvfile)\n",
        "  # for row in reader:\n",
        "  #     print(row['RA'], row['Nome'])\n",
        "\n",
        "  with open('alunos_media.csv', 'w', newline='') as csv_media:\n",
        "      fieldnames = ['RA', 'Nome', 'Frequencia', 'Prova_1', 'Prova_2', 'Prova_3', 'Prova_4', 'Media']\n",
        "      writer = csv.DictWriter(csv_media, fieldnames=fieldnames)\n",
        "      writer.writeheader()\n",
        "      for row in reader:\n",
        "        writer.writerow({'RA': row['RA'],\n",
        "                         'Nome': row['Nome'],\n",
        "                         'Frequencia': row['Frequencia'],\n",
        "                         'Prova_1': row['Prova_1'],\n",
        "                         'Prova_2': row['Prova_2'],\n",
        "                         'Prova_3': row['Prova_3'],\n",
        "                         'Prova_4': row['Prova_4'],\n",
        "                         'Media' : ((float(row['Prova_1'])+float(row['Prova_2'])+float(row['Prova_3'])+float(row['Prova_4']))/4)                        \n",
        "                         })\n",
        "        # print(row['RA'], row['Nome']) \n",
        "    # writer.writeheader()\n",
        "    # writer.writerow({'first_name': 'Baked', 'last_name': 'Beans'})\n",
        "    # writer.writerow({'first_name': 'Lovely', 'last_name': 'Spam'})\n",
        "    # writer.writerow({'first_name': 'Wonderful', 'last_name': 'Spam'})\n",
        "\n",
        "\n",
        "\n",
        "# with open('alunos_media.csv', 'w', encoding='utf-8') as arquivo:\n",
        "#   escritor = csv.writer(arquivo)"
      ],
      "metadata": {
        "id": "BnKzCYkyg0lL"
      },
      "execution_count": null,
      "outputs": []
    },
    {
      "cell_type": "markdown",
      "source": [
        "### 4. Você conhece Star Wars? Se trata, obviamente, da famosa saga espacial criada por George Lucas em 1977 e que deu origem a símbolos do cinema e da cultura pop com o imponente vilão Darth Vader ou o simpático robô R2-D2. \n",
        "\n",
        "  A ideia desse exercício é justamente extrair informações do\n",
        "personagem Darth Vader através de uma API de Star Wars chamada SWAPI.\n",
        "Utilize a URL \"https://swapi.dev/api/people/4/\" para fazer a requisição dos\n",
        "dados de Darth Vader e extraia as informações \"name\" (nome), \"height\"\n",
        "(altura), \"mass\" (massa) e \"birth_year\" (ano de nascimento) e imprima cada\n",
        "dado em uma linha.\n",
        "\n",
        "  Dica: caso não se lembre de como fazer isso, assista novamente a aula sobre\n",
        "API porque o exemplo da aula pode te ajudar."
      ],
      "metadata": {
        "id": "7OrXF7-fnXVr"
      }
    },
    {
      "cell_type": "code",
      "source": [
        "import requests\n",
        "for i in range(1, 17):\n",
        "  url = f'https://swapi.dev/api/people/{i}/'\n",
        "  req = requests.get(url)\n",
        "  # print(req)\n",
        "  dados = req.json()\n",
        "  # print(dados)\n",
        "  nome = dados['name']\n",
        "  altura = dados['height']\n",
        "  peso = dados['mass']\n",
        "  nascimento = dados['birth_year']\n",
        "\n",
        "  print(f'Dados extraídos: \\nNome: {nome}\\nAltura: {altura}\\nPeso: {peso}\\nAno de nascimento:{nascimento}')\n",
        "  print('-'*50)"
      ],
      "metadata": {
        "colab": {
          "base_uri": "https://localhost:8080/"
        },
        "id": "Sq25LYlgnewh",
        "outputId": "4558bd66-6b79-4877-af29-406afc17c13e"
      },
      "execution_count": null,
      "outputs": [
        {
          "output_type": "stream",
          "name": "stdout",
          "text": [
            "Dados extraídos: \n",
            "Nome: Luke Skywalker\n",
            "Altura: 172\n",
            "Peso: 77\n",
            "Ano de nascimento:19BBY\n",
            "--------------------------------------------------\n",
            "Dados extraídos: \n",
            "Nome: C-3PO\n",
            "Altura: 167\n",
            "Peso: 75\n",
            "Ano de nascimento:112BBY\n",
            "--------------------------------------------------\n",
            "Dados extraídos: \n",
            "Nome: R2-D2\n",
            "Altura: 96\n",
            "Peso: 32\n",
            "Ano de nascimento:33BBY\n",
            "--------------------------------------------------\n",
            "Dados extraídos: \n",
            "Nome: Darth Vader\n",
            "Altura: 202\n",
            "Peso: 136\n",
            "Ano de nascimento:41.9BBY\n",
            "--------------------------------------------------\n",
            "Dados extraídos: \n",
            "Nome: Leia Organa\n",
            "Altura: 150\n",
            "Peso: 49\n",
            "Ano de nascimento:19BBY\n",
            "--------------------------------------------------\n",
            "Dados extraídos: \n",
            "Nome: Owen Lars\n",
            "Altura: 178\n",
            "Peso: 120\n",
            "Ano de nascimento:52BBY\n",
            "--------------------------------------------------\n",
            "Dados extraídos: \n",
            "Nome: Beru Whitesun lars\n",
            "Altura: 165\n",
            "Peso: 75\n",
            "Ano de nascimento:47BBY\n",
            "--------------------------------------------------\n",
            "Dados extraídos: \n",
            "Nome: R5-D4\n",
            "Altura: 97\n",
            "Peso: 32\n",
            "Ano de nascimento:unknown\n",
            "--------------------------------------------------\n",
            "Dados extraídos: \n",
            "Nome: Biggs Darklighter\n",
            "Altura: 183\n",
            "Peso: 84\n",
            "Ano de nascimento:24BBY\n",
            "--------------------------------------------------\n",
            "Dados extraídos: \n",
            "Nome: Obi-Wan Kenobi\n",
            "Altura: 182\n",
            "Peso: 77\n",
            "Ano de nascimento:57BBY\n",
            "--------------------------------------------------\n",
            "Dados extraídos: \n",
            "Nome: Anakin Skywalker\n",
            "Altura: 188\n",
            "Peso: 84\n",
            "Ano de nascimento:41.9BBY\n",
            "--------------------------------------------------\n",
            "Dados extraídos: \n",
            "Nome: Wilhuff Tarkin\n",
            "Altura: 180\n",
            "Peso: unknown\n",
            "Ano de nascimento:64BBY\n",
            "--------------------------------------------------\n",
            "Dados extraídos: \n",
            "Nome: Chewbacca\n",
            "Altura: 228\n",
            "Peso: 112\n",
            "Ano de nascimento:200BBY\n",
            "--------------------------------------------------\n",
            "Dados extraídos: \n",
            "Nome: Han Solo\n",
            "Altura: 180\n",
            "Peso: 80\n",
            "Ano de nascimento:29BBY\n",
            "--------------------------------------------------\n",
            "Dados extraídos: \n",
            "Nome: Greedo\n",
            "Altura: 173\n",
            "Peso: 74\n",
            "Ano de nascimento:44BBY\n",
            "--------------------------------------------------\n",
            "Dados extraídos: \n",
            "Nome: Jabba Desilijic Tiure\n",
            "Altura: 175\n",
            "Peso: 1,358\n",
            "Ano de nascimento:600BBY\n",
            "--------------------------------------------------\n"
          ]
        }
      ]
    },
    {
      "cell_type": "markdown",
      "source": [
        "### 5. Em 2019 surgiram os primeiros casos de COVID-19 que se alastrou pelo mundo resultando numa pandemia. \n",
        "\n",
        "  A proposta deste exercício é utilizar\n",
        "uma API com informações de COVID-19 do mundo todo desde o início da\n",
        "proliferação e descobrir que dia o Brasil confirmou o primeiro caso de\n",
        "Coronavírus.\n",
        "\n",
        "  Para fazer isso, utilize a URL \"https://api.covid19api.com/country/brazil\" em seu\n",
        "código. Ela retorna uma lista de dicionários, onde cada dicionário traz\n",
        "informações através das chaves:\n",
        "\"ID\", \"Country\", \"CountryCode\", \"Province\", \"City\",\n",
        "\"CityCode\",\"Lat\",\"Lon\",\"Confirmed\",\"Deaths\", \"Recovered\", \"Active\" e \"Date\".\n",
        "\n",
        "  Utilize essas informações e retorne a data em que o Brasil confirmou o\n",
        "primeiro caso de COVID."
      ],
      "metadata": {
        "id": "CDqMunw0p6Xz"
      }
    },
    {
      "cell_type": "code",
      "source": [
        "import requests\n",
        "url = \"https://api.covid19api.com/country/brazil\"\n",
        "req = requests.get(url)\n",
        "dados = req.json()\n",
        "# print(dados[0]['Date'])\n",
        "final = []\n",
        "for i in dados:\n",
        "  final.append(i['Date'])\n",
        "\n",
        "editado = []\n",
        "for j in final:\n",
        "  s = j[:10]\n",
        "  # print(s)\n",
        "  editado.append(s)\n",
        "print(editado)"
      ],
      "metadata": {
        "colab": {
          "base_uri": "https://localhost:8080/"
        },
        "id": "AER0g-sTp-S2",
        "outputId": "7f747c40-c2c8-4d1f-8de6-a017cf2c8e85"
      },
      "execution_count": null,
      "outputs": [
        {
          "output_type": "stream",
          "name": "stdout",
          "text": [
            "['2020-01-22', '2020-01-23', '2020-01-24', '2020-01-25', '2020-01-26', '2020-01-27', '2020-01-28', '2020-01-29', '2020-01-30', '2020-01-31', '2020-02-01', '2020-02-02', '2020-02-03', '2020-02-04', '2020-02-05', '2020-02-06', '2020-02-07', '2020-02-08', '2020-02-09', '2020-02-10', '2020-02-11', '2020-02-12', '2020-02-13', '2020-02-14', '2020-02-15', '2020-02-16', '2020-02-17', '2020-02-18', '2020-02-19', '2020-02-20', '2020-02-21', '2020-02-22', '2020-02-23', '2020-02-24', '2020-02-25', '2020-02-26', '2020-02-27', '2020-02-28', '2020-02-29', '2020-03-01', '2020-03-02', '2020-03-03', '2020-03-04', '2020-03-05', '2020-03-06', '2020-03-07', '2020-03-08', '2020-03-09', '2020-03-10', '2020-03-11', '2020-03-12', '2020-03-13', '2020-03-14', '2020-03-15', '2020-03-16', '2020-03-17', '2020-03-18', '2020-03-19', '2020-03-20', '2020-03-21', '2020-03-22', '2020-03-23', '2020-03-24', '2020-03-25', '2020-03-26', '2020-03-27', '2020-03-28', '2020-03-29', '2020-03-30', '2020-03-31', '2020-04-01', '2020-04-02', '2020-04-03', '2020-04-04', '2020-04-05', '2020-04-06', '2020-04-07', '2020-04-08', '2020-04-09', '2020-04-10', '2020-04-11', '2020-04-12', '2020-04-13', '2020-04-14', '2020-04-15', '2020-04-16', '2020-04-17', '2020-04-18', '2020-04-19', '2020-04-20', '2020-04-21', '2020-04-22', '2020-04-23', '2020-04-24', '2020-04-25', '2020-04-26', '2020-04-27', '2020-04-28', '2020-04-29', '2020-04-30', '2020-05-01', '2020-05-02', '2020-05-03', '2020-05-04', '2020-05-05', '2020-05-06', '2020-05-07', '2020-05-08', '2020-05-09', '2020-05-10', '2020-05-11', '2020-05-12', '2020-05-13', '2020-05-14', '2020-05-15', '2020-05-16', '2020-05-17', '2020-05-18', '2020-05-19', '2020-05-20', '2020-05-21', '2020-05-22', '2020-05-23', '2020-05-24', '2020-05-25', '2020-05-26', '2020-05-27', '2020-05-28', '2020-05-29', '2020-05-30', '2020-05-31', '2020-06-01', '2020-06-02', '2020-06-03', '2020-06-04', '2020-06-05', '2020-06-06', '2020-06-07', '2020-06-08', '2020-06-09', '2020-06-10', '2020-06-11', '2020-06-12', '2020-06-13', '2020-06-14', '2020-06-15', '2020-06-16', '2020-06-17', '2020-06-18', '2020-06-19', '2020-06-20', '2020-06-21', '2020-06-22', '2020-06-23', '2020-06-24', '2020-06-25', '2020-06-26', '2020-06-27', '2020-06-28', '2020-06-29', '2020-06-30', '2020-07-01', '2020-07-02', '2020-07-03', '2020-07-04', '2020-07-05', '2020-07-06', '2020-07-07', '2020-07-08', '2020-07-09', '2020-07-10', '2020-07-11', '2020-07-12', '2020-07-13', '2020-07-14', '2020-07-15', '2020-07-16', '2020-07-17', '2020-07-18', '2020-07-19', '2020-07-20', '2020-07-21', '2020-07-22', '2020-07-23', '2020-07-24', '2020-07-25', '2020-07-26', '2020-07-27', '2020-07-28', '2020-07-29', '2020-07-30', '2020-07-31', '2020-08-01', '2020-08-02', '2020-08-03', '2020-08-04', '2020-08-05', '2020-08-06', '2020-08-07', '2020-08-08', '2020-08-09', '2020-08-10', '2020-08-11', '2020-08-12', '2020-08-13', '2020-08-14', '2020-08-15', '2020-08-16', '2020-08-17', '2020-08-18', '2020-08-19', '2020-08-20', '2020-08-21', '2020-08-22', '2020-08-23', '2020-08-24', '2020-08-25', '2020-08-26', '2020-08-27', '2020-08-28', '2020-08-29', '2020-08-30', '2020-08-31', '2020-09-01', '2020-09-02', '2020-09-03', '2020-09-04', '2020-09-05', '2020-09-06', '2020-09-07', '2020-09-08', '2020-09-09', '2020-09-10', '2020-09-11', '2020-09-12', '2020-09-13', '2020-09-14', '2020-09-15', '2020-09-16', '2020-09-17', '2020-09-18', '2020-09-19', '2020-09-20', '2020-09-21', '2020-09-22', '2020-09-23', '2020-09-24', '2020-09-25', '2020-09-26', '2020-09-27', '2020-09-28', '2020-09-29', '2020-09-30', '2020-10-01', '2020-10-02', '2020-10-03', '2020-10-04', '2020-10-05', '2020-10-06', '2020-10-07', '2020-10-08', '2020-10-09', '2020-10-10', '2020-10-11', '2020-10-12', '2020-10-13', '2020-10-14', '2020-10-15', '2020-10-16', '2020-10-17', '2020-10-18', '2020-10-19', '2020-10-20', '2020-10-21', '2020-10-22', '2020-10-23', '2020-10-24', '2020-10-25', '2020-10-26', '2020-10-27', '2020-10-28', '2020-10-29', '2020-10-30', '2020-10-31', '2020-11-01', '2020-11-02', '2020-11-03', '2020-11-04', '2020-11-05', '2020-11-06', '2020-11-07', '2020-11-08', '2020-11-09', '2020-11-10', '2020-11-11', '2020-11-12', '2020-11-13', '2020-11-14', '2020-11-15', '2020-11-16', '2020-11-17', '2020-11-18', '2020-11-19', '2020-11-20', '2020-11-21', '2020-11-22', '2020-11-23', '2020-11-24', '2020-11-25', '2020-11-26', '2020-11-27', '2020-11-28', '2020-11-29', '2020-11-30', '2020-12-01', '2020-12-02', '2020-12-03', '2020-12-04', '2020-12-05', '2020-12-06', '2020-12-07', '2020-12-08', '2020-12-09', '2020-12-10', '2020-12-11', '2020-12-12', '2020-12-13', '2020-12-14', '2020-12-15', '2020-12-16', '2020-12-17', '2020-12-18', '2020-12-19', '2020-12-20', '2020-12-21', '2020-12-22', '2020-12-23', '2020-12-24', '2020-12-25', '2020-12-26', '2020-12-27', '2020-12-28', '2020-12-29', '2020-12-30', '2020-12-31', '2021-01-01', '2021-01-02', '2021-01-03', '2021-01-04', '2021-01-05', '2021-01-06', '2021-01-07', '2021-01-08', '2021-01-09', '2021-01-10', '2021-01-11', '2021-01-12', '2021-01-13', '2021-01-14', '2021-01-15', '2021-01-16', '2021-01-17', '2021-01-18', '2021-01-19', '2021-01-20', '2021-01-21', '2021-01-22', '2021-01-23', '2021-01-24', '2021-01-25', '2021-01-26', '2021-01-27', '2021-01-28', '2021-01-29', '2021-01-30', '2021-01-31', '2021-02-01', '2021-02-02', '2021-02-03', '2021-02-04', '2021-02-05', '2021-02-06', '2021-02-07', '2021-02-08', '2021-02-09', '2021-02-10', '2021-02-11', '2021-02-12', '2021-02-13', '2021-02-14', '2021-02-15', '2021-02-16', '2021-02-17', '2021-02-18', '2021-02-19', '2021-02-20', '2021-02-21', '2021-02-22', '2021-02-23', '2021-02-24', '2021-02-25', '2021-02-26', '2021-02-27', '2021-02-28', '2021-03-01', '2021-03-02', '2021-03-03', '2021-03-04', '2021-03-05', '2021-03-06', '2021-03-07', '2021-03-08', '2021-03-09', '2021-03-10', '2021-03-11', '2021-03-12', '2021-03-13', '2021-03-14', '2021-03-15', '2021-03-16', '2021-03-17', '2021-03-18', '2021-03-19', '2021-03-20', '2021-03-21', '2021-03-22', '2021-03-23', '2021-03-24', '2021-03-25', '2021-03-26', '2021-03-27', '2021-03-28', '2021-03-29', '2021-03-30', '2021-03-31', '2021-04-01', '2021-04-02', '2021-04-03', '2021-04-04', '2021-04-05', '2021-04-06', '2021-04-07', '2021-04-08', '2021-04-09', '2021-04-10', '2021-04-11', '2021-04-12', '2021-04-13', '2021-04-14', '2021-04-15', '2021-04-16', '2021-04-17', '2021-04-18', '2021-04-19', '2021-04-20', '2021-04-21', '2021-04-22', '2021-04-23', '2021-04-24', '2021-04-25', '2021-04-26', '2021-04-27', '2021-04-28', '2021-04-29', '2021-04-30', '2021-05-01', '2021-05-02', '2021-05-03', '2021-05-04', '2021-05-05', '2021-05-06', '2021-05-07', '2021-05-08', '2021-05-09', '2021-05-10', '2021-05-11', '2021-05-12', '2021-05-13', '2021-05-14', '2021-05-15', '2021-05-16', '2021-05-17', '2021-05-18', '2021-05-19', '2021-05-20', '2021-05-21', '2021-05-22', '2021-05-23', '2021-05-24', '2021-05-25', '2021-05-26', '2021-05-27', '2021-05-28', '2021-05-29', '2021-05-30', '2021-05-31', '2021-06-01', '2021-06-02', '2021-06-03', '2021-06-04', '2021-06-05', '2021-06-06', '2021-06-07', '2021-06-08', '2021-06-09', '2021-06-10', '2021-06-11', '2021-06-12', '2021-06-13', '2021-06-14', '2021-06-15', '2021-06-16', '2021-06-17', '2021-06-18', '2021-06-19', '2021-06-20', '2021-06-21', '2021-06-22', '2021-06-23', '2021-06-24', '2021-06-25', '2021-06-26', '2021-06-27', '2021-06-28', '2021-06-29', '2021-06-30', '2021-07-01', '2021-07-02', '2021-07-03', '2021-07-04', '2021-07-05', '2021-07-06', '2021-07-07', '2021-07-08', '2021-07-09', '2021-07-10', '2021-07-11', '2021-07-12', '2021-07-13', '2021-07-14', '2021-07-15', '2021-07-16', '2021-07-17', '2021-07-18', '2021-07-19', '2021-07-20', '2021-07-21', '2021-07-22', '2021-07-23', '2021-07-24', '2021-07-25', '2021-07-26', '2021-07-27', '2021-07-28', '2021-07-29', '2021-07-30', '2021-07-31', '2021-08-01', '2021-08-02', '2021-08-03', '2021-08-04', '2021-08-05', '2021-08-06', '2021-08-07', '2021-08-08', '2021-08-09', '2021-08-10', '2021-08-11', '2021-08-12', '2021-08-13', '2021-08-14', '2021-08-15', '2021-08-16', '2021-08-17', '2021-08-18', '2021-08-19', '2021-08-20', '2021-08-21', '2021-08-22', '2021-08-23', '2021-08-24', '2021-08-25', '2021-08-26', '2021-08-27', '2021-08-28', '2021-08-29', '2021-08-30', '2021-08-31', '2021-09-01', '2021-09-02', '2021-09-03', '2021-09-04', '2021-09-05', '2021-09-06', '2021-09-07', '2021-09-08', '2021-09-09', '2021-09-10', '2021-09-11', '2021-09-12', '2021-09-13', '2021-09-14', '2021-09-15', '2021-09-16', '2021-09-17', '2021-09-18', '2021-09-19', '2021-09-20', '2021-09-21', '2021-09-22', '2021-09-23', '2021-09-24', '2021-09-25', '2021-09-26', '2021-09-27', '2021-09-28', '2021-09-29', '2021-09-30', '2021-10-01', '2021-10-02', '2021-10-03', '2021-10-04', '2021-10-05', '2021-10-06', '2021-10-07', '2021-10-08', '2021-10-09', '2021-10-10', '2021-10-11', '2021-10-12', '2021-10-13', '2021-10-14', '2021-10-15', '2021-10-16', '2021-10-17', '2021-10-18', '2021-10-19', '2021-10-20', '2021-10-21', '2021-10-22', '2021-10-23', '2021-10-24', '2021-10-25', '2021-10-26', '2021-10-27', '2021-10-28', '2021-10-29', '2021-10-30', '2021-10-31', '2021-11-01', '2021-11-02', '2021-11-03', '2021-11-04', '2021-11-05', '2021-11-06', '2021-11-07', '2021-11-08', '2021-11-09', '2021-11-10', '2021-11-11', '2021-11-12', '2021-11-13', '2021-11-14', '2021-11-15', '2021-11-16', '2021-11-17', '2021-11-18', '2021-11-19', '2021-11-20', '2021-11-21', '2021-11-22', '2021-11-23', '2021-11-24', '2021-11-25', '2021-11-26', '2021-11-27', '2021-11-28', '2021-11-29', '2021-11-30', '2021-12-01', '2021-12-02', '2021-12-03', '2021-12-04', '2021-12-05', '2021-12-06', '2021-12-07', '2021-12-08', '2021-12-09', '2021-12-10', '2021-12-11', '2021-12-12', '2021-12-13', '2021-12-14', '2021-12-15', '2021-12-16', '2021-12-17', '2021-12-18', '2021-12-19', '2021-12-20', '2021-12-21', '2021-12-22', '2021-12-23', '2021-12-24', '2021-12-25', '2021-12-26', '2021-12-27', '2021-12-28', '2021-12-29', '2021-12-30', '2021-12-31', '2022-01-01', '2022-01-02', '2022-01-03', '2022-01-04', '2022-01-05', '2022-01-06', '2022-01-07', '2022-01-08', '2022-01-09', '2022-01-10', '2022-01-11', '2022-01-12', '2022-01-13', '2022-01-14', '2022-01-15', '2022-01-16', '2022-01-17', '2022-01-18', '2022-01-19', '2022-01-20', '2022-01-21', '2022-01-22', '2022-01-23', '2022-01-24', '2022-01-25', '2022-01-26', '2022-01-27', '2022-01-28', '2022-01-29', '2022-01-30', '2022-01-31', '2022-02-01', '2022-02-02', '2022-02-03', '2022-02-04', '2022-02-05', '2022-02-06', '2022-02-07', '2022-02-08', '2022-02-09', '2022-02-10', '2022-02-11', '2022-02-12', '2022-02-13', '2022-02-14', '2022-02-15', '2022-02-16', '2022-02-17', '2022-02-18', '2022-02-19', '2022-02-20', '2022-02-21', '2022-02-22', '2022-02-23', '2022-02-24', '2022-02-25', '2022-02-26', '2022-02-27', '2022-02-28', '2022-03-01', '2022-03-02', '2022-03-03', '2022-03-04', '2022-03-05', '2022-03-06', '2022-03-07', '2022-03-08', '2022-03-09', '2022-03-10', '2022-03-11', '2022-03-12', '2022-03-13', '2022-03-14', '2022-03-15', '2022-03-16', '2022-03-17', '2022-03-18', '2022-03-19', '2022-03-20', '2022-03-21', '2022-03-22', '2022-03-23', '2022-03-24', '2022-03-25', '2022-03-26', '2022-03-27', '2022-03-28', '2022-03-29', '2022-03-30', '2022-03-31', '2022-04-01', '2022-04-02', '2022-04-03', '2022-04-04', '2022-04-05', '2022-04-06', '2022-04-07', '2022-04-08', '2022-04-09', '2022-04-10', '2022-04-11', '2022-04-12', '2022-04-13', '2022-04-14', '2022-04-15', '2022-04-16', '2022-04-17', '2022-04-18', '2022-04-19', '2022-04-20', '2022-04-21', '2022-04-22', '2022-04-23', '2022-04-24', '2022-04-25', '2022-04-26', '2022-04-27', '2022-04-28', '2022-04-29', '2022-04-30', '2022-05-01', '2022-05-02', '2022-05-03', '2022-05-04', '2022-05-05', '2022-05-06', '2022-05-07', '2022-05-08', '2022-05-09', '2022-05-10', '2022-05-11', '2022-05-12', '2022-05-13', '2022-05-14', '2022-05-15', '2022-05-16', '2022-05-17', '2022-05-18', '2022-05-19', '2022-05-20', '2022-05-21', '2022-05-22', '2022-05-23', '2022-05-24', '2022-05-25', '2022-05-26', '2022-05-27', '2022-05-28', '2022-05-29', '2022-05-30', '2022-05-31', '2022-06-01', '2022-06-02', '2022-06-03', '2022-06-04', '2022-06-05', '2022-06-06', '2022-06-07', '2022-06-08', '2022-06-09', '2022-06-10', '2022-06-11', '2022-06-12', '2022-06-13', '2022-06-14', '2022-06-15', '2022-06-16', '2022-06-17', '2022-06-18', '2022-06-19', '2022-06-20', '2022-06-21', '2022-06-22', '2022-06-23', '2022-06-24', '2022-06-25', '2022-06-26', '2022-06-27', '2022-06-28', '2022-06-29', '2022-06-30', '2022-07-01', '2022-07-02', '2022-07-03', '2022-07-04', '2022-07-05', '2022-07-06', '2022-07-07', '2022-07-08', '2022-07-09', '2022-07-10', '2022-07-11', '2022-07-12', '2022-07-13', '2022-07-14', '2022-07-15', '2022-07-16', '2022-07-17', '2022-07-18', '2022-07-19', '2022-07-20', '2022-07-21', '2022-07-22', '2022-07-23', '2022-07-24', '2022-07-25', '2022-07-26', '2022-07-27', '2022-07-28', '2022-07-29', '2022-07-30', '2022-07-31', '2022-08-01', '2022-08-02', '2022-08-03', '2022-08-04', '2022-08-05', '2022-08-06', '2022-08-07', '2022-08-08', '2022-08-09', '2022-08-10', '2022-08-11', '2022-08-12', '2022-08-13', '2022-08-14', '2022-08-15', '2022-08-16', '2022-08-17', '2022-08-18', '2022-08-19', '2022-08-20', '2022-08-21', '2022-08-22', '2022-08-23', '2022-08-24', '2022-08-25', '2022-08-26', '2022-08-27', '2022-08-28', '2022-08-29', '2022-08-30', '2022-08-31', '2022-09-01', '2022-09-02', '2022-09-03', '2022-09-04', '2022-09-05', '2022-09-06', '2022-09-07', '2022-09-08', '2022-09-09', '2022-09-10', '2022-09-11', '2022-09-12', '2022-09-13', '2022-09-14']\n"
          ]
        }
      ]
    },
    {
      "cell_type": "code",
      "source": [
        "from datetime import datetime\n",
        "\n",
        "datas = [datetime.strptime(ts, \"%Y-%m-%d\") for ts in editado]\n",
        "datas.sort()\n",
        "sorted_dates = [datetime.strftime(ts, \"%d/%m/%Y\") for ts in datas]\n",
        "print(f'O caso de Covid 19 mais antigo no Brasil é: {sorted_dates[0]}')\n",
        "\n"
      ],
      "metadata": {
        "colab": {
          "base_uri": "https://localhost:8080/"
        },
        "id": "jAd01kAkrJi7",
        "outputId": "7f5d17fe-aa86-493c-e29f-4507c77470bb"
      },
      "execution_count": 46,
      "outputs": [
        {
          "output_type": "stream",
          "name": "stdout",
          "text": [
            "O caso de Covid 19 mais antigo no Brasil é: 22/01/2020\n"
          ]
        }
      ]
    }
  ]
}