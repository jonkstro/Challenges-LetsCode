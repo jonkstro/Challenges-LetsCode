{
  "nbformat": 4,
  "nbformat_minor": 0,
  "metadata": {
    "colab": {
      "provenance": [],
      "collapsed_sections": [],
      "authorship_tag": "ABX9TyPwzMEsMI9baOykNWiE+DgU",
      "include_colab_link": true
    },
    "kernelspec": {
      "name": "python3",
      "display_name": "Python 3"
    },
    "language_info": {
      "name": "python"
    }
  },
  "cells": [
    {
      "cell_type": "markdown",
      "metadata": {
        "id": "view-in-github",
        "colab_type": "text"
      },
      "source": [
        "<a href=\"https://colab.research.google.com/github/jonkstro/Challenges-LetsCode/blob/main/Lets_Code_modulo2.ipynb\" target=\"_parent\"><img src=\"https://colab.research.google.com/assets/colab-badge.svg\" alt=\"Open In Colab\"/></a>"
      ]
    },
    {
      "cell_type": "markdown",
      "source": [
        "#Exercícios Módulo 2 - Python\n",
        "1. Faça um programa que olhe todos os itens de uma lista e diga quantos deles são pares.\n",
        "2. Faça um programa que peça para o usuário digitar uma palavra e imprima\n",
        "cada letra em uma linha.\n",
        "3. Faça uma função que recebe duas listas e retorna a soma item a item dessas listas.\n",
        "\n",
        "Exemplo: Se a função receber as listas [1,4,3] e [3,5,1], então a função deve retornar [1+3, 4+5, 3+1] = [4, 9, 4].\n",
        "4. Crie um dicionário cujas chaves são os meses do ano e os valores são a\n",
        "duração (em dias) de cada mês.\n",
        "5. Imprima as chaves seguidas dos seus valores para dicionário criado no\n",
        "exercício anterior.\n",
        "\n",
        "Exemplo:\n",
        "Janeiro - 31\n",
        "\n",
        "Fevereiro - 28\n",
        "\n",
        "Março - 31\n",
        "\n",
        "Etc..."
      ],
      "metadata": {
        "id": "BnOXqnDrTetS"
      }
    },
    {
      "cell_type": "markdown",
      "source": [
        "### 1. Faça um programa que olhe todos os itens de uma lista e diga quantos deles são pares.\n"
      ],
      "metadata": {
        "id": "QrrRY54pJLoY"
      }
    },
    {
      "cell_type": "code",
      "source": [
        "import random\n",
        "from random import randrange\n",
        "\n",
        "lista = []\n",
        "for x in range(10):\n",
        "  lista.append(random.randrange(0,100))\n",
        "\n",
        "for i in lista:\n",
        "  if (i%2 == 0):\n",
        "    print('O número {} é par'.format(i))\n",
        "  else:\n",
        "    print('O número {} é impar'.format(i))"
      ],
      "metadata": {
        "colab": {
          "base_uri": "https://localhost:8080/"
        },
        "id": "DacGKmIPJK0r",
        "outputId": "5452168c-f2ac-41d5-bbb0-2b1e8f1fce69"
      },
      "execution_count": 8,
      "outputs": [
        {
          "output_type": "stream",
          "name": "stdout",
          "text": [
            "O número 28 é par\n",
            "O número 55 é impar\n",
            "O número 53 é impar\n",
            "O número 10 é par\n",
            "O número 70 é par\n",
            "O número 6 é par\n",
            "O número 76 é par\n",
            "O número 4 é par\n",
            "O número 25 é impar\n",
            "O número 33 é impar\n"
          ]
        }
      ]
    },
    {
      "cell_type": "markdown",
      "source": [
        "###2. Faça um programa que peça para o usuário digitar uma palavra e imprima cada letra em uma linha."
      ],
      "metadata": {
        "id": "J23KvZ6SLiTU"
      }
    },
    {
      "cell_type": "code",
      "source": [
        "palavra = input('Digite uma palavra: ')\n",
        "for i in palavra:\n",
        "  print(i)"
      ],
      "metadata": {
        "colab": {
          "base_uri": "https://localhost:8080/"
        },
        "id": "Bql4_9q0LhQ4",
        "outputId": "9b2bfd42-8576-4eb3-b689-1e59de683059"
      },
      "execution_count": 10,
      "outputs": [
        {
          "output_type": "stream",
          "name": "stdout",
          "text": [
            "Digite uma palavra: Testes dasd\n",
            "T\n",
            "e\n",
            "s\n",
            "t\n",
            "e\n",
            "s\n",
            " \n",
            "d\n",
            "a\n",
            "s\n",
            "d\n"
          ]
        }
      ]
    },
    {
      "cell_type": "markdown",
      "source": [
        "### 3. Faça uma função que recebe duas listas e retorna a soma item a item dessas listas.\n",
        "\n",
        "Exemplo: Se a função receber as listas [1,4,3] e [3,5,1], então a função deve retornar [1+3, 4+5, 3+1] = [4, 9, 4]."
      ],
      "metadata": {
        "id": "ic3rVbywMu-j"
      }
    },
    {
      "cell_type": "code",
      "source": [
        "import random\n",
        "from random import randrange\n",
        "\n",
        "lista1 = []\n",
        "lista2 = []\n",
        "\n",
        "for x in range(10):\n",
        "  lista1.append(random.randrange(0,100))\n",
        "  lista2.append(random.randrange(0,100))\n",
        "\n",
        "lista3 = []\n",
        "j = 0\n",
        "\n",
        "for i in range(len(lista1)):\n",
        "  lista3.append(lista1[j] + lista2[j])\n",
        "  j += 1\n",
        "print(lista1, ' + ', lista2)\n",
        "print(lista3)"
      ],
      "metadata": {
        "colab": {
          "base_uri": "https://localhost:8080/"
        },
        "id": "gOocBm7mM0dy",
        "outputId": "e567aa48-67f5-408b-e1bd-16e83a2915f6"
      },
      "execution_count": 22,
      "outputs": [
        {
          "output_type": "stream",
          "name": "stdout",
          "text": [
            "[31, 9, 38, 79, 26, 15, 54, 14, 83, 62]  +  [93, 88, 21, 73, 76, 78, 94, 75, 17, 21]\n",
            "[124, 97, 59, 152, 102, 93, 148, 89, 100, 83]\n"
          ]
        }
      ]
    },
    {
      "cell_type": "markdown",
      "source": [
        "###4. Crie um dicionário cujas chaves são os meses do ano e os valores são a duração (em dias) de cada mês.\n",
        "###5. Imprima as chaves seguidas dos seus valores para dicionário criado no exercício anterior."
      ],
      "metadata": {
        "id": "LQD6SjMLRFpI"
      }
    },
    {
      "cell_type": "code",
      "source": [
        "calendar = {\n",
        "    'mês': ['janeiro', 'fevereiro', 'março', 'abril', 'maio', 'junho', 'agosto',\n",
        "            'setembro', 'outubro', 'novembro', 'dezembro'],\n",
        "    'dias': [31, 28, 31, 30, 31, 30, 31, 31, 30, 31, 30, 31]\n",
        "}\n",
        "\n",
        "print(calendar['mês'],'\\n', calendar['dias'])"
      ],
      "metadata": {
        "colab": {
          "base_uri": "https://localhost:8080/"
        },
        "id": "6Sa2UM1qRHSB",
        "outputId": "c8b700ce-8b8f-4a21-805d-b3c9e38562d9"
      },
      "execution_count": 35,
      "outputs": [
        {
          "output_type": "stream",
          "name": "stdout",
          "text": [
            "['janeiro', 'fevereiro', 'março', 'abril', 'maio', 'junho', 'agosto', 'setembro', 'outubro', 'novembro', 'dezembro'] \n",
            " [31, 28, 31, 30, 31, 30, 31, 31, 30, 31, 30, 31]\n"
          ]
        }
      ]
    }
  ]
}